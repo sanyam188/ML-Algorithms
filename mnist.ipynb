{
 "cells": [
  {
   "cell_type": "code",
   "execution_count": 1,
   "metadata": {},
   "outputs": [],
   "source": [
    "import numpy as np\n",
    "import tensorflow as tf \n",
    "import tensorflow_datasets as tfds"
   ]
  },
  {
   "cell_type": "code",
   "execution_count": 2,
   "metadata": {},
   "outputs": [
    {
     "data": {
      "text/plain": [
       "{'test': <PrefetchDataset shapes: ((28, 28, 1), ()), types: (tf.uint8, tf.int64)>,\n",
       " 'train': <PrefetchDataset shapes: ((28, 28, 1), ()), types: (tf.uint8, tf.int64)>}"
      ]
     },
     "execution_count": 2,
     "metadata": {},
     "output_type": "execute_result"
    }
   ],
   "source": [
    "mnist_dataset,mnist_info =tfds.load('mnist',with_info=True,as_supervised=True)\n",
    "# mnist_info\n",
    "mnist_dataset"
   ]
  },
  {
   "cell_type": "code",
   "execution_count": 3,
   "metadata": {},
   "outputs": [
    {
     "data": {
      "text/plain": [
       "<BatchDataset shapes: ((None, 28, 28, 1), (None,)), types: (tf.float32, tf.int64)>"
      ]
     },
     "execution_count": 3,
     "metadata": {},
     "output_type": "execute_result"
    }
   ],
   "source": [
    "mnist_info.splits['train']\n",
    "\n",
    "mnist_train,mnist_test=mnist_dataset['train'],mnist_dataset['test']\n",
    "# mnist_test=mnist_dataset['test']\n",
    "\n",
    "num_validation_samples=0.1*mnist_info.splits['train'].num_examples\n",
    "num_validation_samples=tf.cast(num_validation_samples,tf.int64)\n",
    "\n",
    "num_test_samples=mnist_info.splits['test'].num_examples\n",
    "#cast if needed\n",
    "\n",
    "def scale(image,label):\n",
    "    image=tf.cast(image,tf.float32)\n",
    "    image/=255\n",
    "    return image,label\n",
    "\n",
    "scaled_train_and_validation_data=mnist_train.map(scale)\n",
    "\n",
    "buffer_size = 10000 #hyperparameter\n",
    "shuffled_train_and_validation_data=scaled_train_and_validation_data.shuffle(buffer_size)\n",
    "\n",
    "validation_data=shuffled_train_and_validation_data.take(num_validation_samples)\n",
    "train_data=shuffled_train_and_validation_data.skip(num_validation_samples)\n",
    "\n",
    "batch_size=100 \n",
    "train_data=train_data.batch(batch_size)\n",
    "validation_data=validation_data.batch(num_validation_samples)\n",
    "test_data=mnist_test.batch(num_test_samples)\n",
    "\n",
    "validation_inputs,validation_targets=next(iter(validation_data))\n",
    "train_data"
   ]
  },
  {
   "cell_type": "code",
   "execution_count": 4,
   "metadata": {},
   "outputs": [],
   "source": [
    "input_size=784\n",
    "output_size=10\n",
    "WIDTH=50\n",
    "\n",
    "model=tf.keras.Sequential([\n",
    "    tf.keras.layers.Flatten(input_shape=(28,28,1)),\n",
    "    tf.keras.layers.Dense(units=WIDTH,activation='relu'),\n",
    "    tf.keras.layers.Dense(units=WIDTH,activation='relu'),\n",
    "    tf.keras.layers.Dense(units=10,activation='softmax'),\n",
    "])\n"
   ]
  },
  {
   "cell_type": "code",
   "execution_count": 5,
   "metadata": {},
   "outputs": [],
   "source": [
    "model.compile(optimizer='adam',loss='sparse_categorical_crossentropy',metrics=['accuracy'])"
   ]
  },
  {
   "cell_type": "code",
   "execution_count": 8,
   "metadata": {},
   "outputs": [
    {
     "name": "stdout",
     "output_type": "stream",
     "text": [
      "Epoch 1/5\n",
      "540/540 - 1s - loss: 0.0435 - accuracy: 0.9865 - val_loss: 0.0509 - val_accuracy: 0.9863\n",
      "Epoch 2/5\n",
      "540/540 - 1s - loss: 0.0398 - accuracy: 0.9884 - val_loss: 0.0490 - val_accuracy: 0.9830\n",
      "Epoch 3/5\n",
      "540/540 - 1s - loss: 0.0359 - accuracy: 0.9884 - val_loss: 0.0450 - val_accuracy: 0.9882\n",
      "Epoch 4/5\n",
      "540/540 - 1s - loss: 0.0329 - accuracy: 0.9898 - val_loss: 0.0382 - val_accuracy: 0.9883\n",
      "Epoch 5/5\n",
      "540/540 - 1s - loss: 0.0288 - accuracy: 0.9913 - val_loss: 0.0346 - val_accuracy: 0.9903\n"
     ]
    },
    {
     "data": {
      "text/plain": [
       "<tensorflow.python.keras.callbacks.History at 0x7f1202624d90>"
      ]
     },
     "execution_count": 8,
     "metadata": {},
     "output_type": "execute_result"
    }
   ],
   "source": [
    "\n",
    "EPOCH=5\n",
    "train_data\n",
    "model.fit(train_data,batch_size=100 , epochs=EPOCH,verbose=2 ,validation_data=(validation_inputs,validation_targets))\n",
    "\n",
    "# NUM_EPOCHS=5\n",
    "# model.fit(train_data, \n",
    "#           batch_size=128,\n",
    "#           epochs=NUM_EPOCHS, \n",
    "#           validation_data=(validation_inputs,validation_targets))"
   ]
  },
  {
   "cell_type": "code",
   "execution_count": 14,
   "metadata": {},
   "outputs": [
    {
     "name": "stdout",
     "output_type": "stream",
     "text": [
      "1/1 [==============================] - 0s 718us/step - loss: 19.1701 - accuracy: 0.9729\n",
      "Loss 19.170106887817383 Accuracy 97.28999733924866\n"
     ]
    }
   ],
   "source": [
    "test_loss,test_accuracy=model.evaluate(test_data)\n",
    "print('Loss {} Accuracy {}'.format(a,b*100))"
   ]
  }
 ],
 "metadata": {
  "kernelspec": {
   "display_name": "Python 3",
   "language": "python",
   "name": "python3"
  },
  "language_info": {
   "codemirror_mode": {
    "name": "ipython",
    "version": 3
   },
   "file_extension": ".py",
   "mimetype": "text/x-python",
   "name": "python",
   "nbconvert_exporter": "python",
   "pygments_lexer": "ipython3",
   "version": "3.8.2"
  }
 },
 "nbformat": 4,
 "nbformat_minor": 4
}
