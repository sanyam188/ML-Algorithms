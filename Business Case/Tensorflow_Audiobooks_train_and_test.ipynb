{
 "cells": [
  {
   "cell_type": "code",
   "execution_count": 1,
   "metadata": {},
   "outputs": [],
   "source": [
    "import numpy as np\n",
    "import tensorflow as tf\n"
   ]
  },
  {
   "cell_type": "code",
   "execution_count": 4,
   "metadata": {},
   "outputs": [],
   "source": [
    "npz=np.load('Audiobooks_data_test.npz')\n",
    "\n",
    "train_inputs=npz['inputs'].astype(np.float)\n",
    "train_outputs=npz['targets'].astype(np.int)\n",
    "\n",
    "npz=np.load('Audiobooks_data_validation.npz')\n",
    "\n",
    "validation_inputs=npz['inputs'].astype(np.float)\n",
    "validation_outputs=npz['targets'].astype(np.int)\n",
    "\n",
    "npz=np.load('Audiobooks_data_test.npz')\n",
    "\n",
    "test_inputs=npz['inputs'].astype(np.float)\n",
    "test_outputs=npz['targets'].astype(np.int)"
   ]
  },
  {
   "cell_type": "code",
   "execution_count": 9,
   "metadata": {},
   "outputs": [
    {
     "name": "stdout",
     "output_type": "stream",
     "text": [
      "Epoch 1/100\n",
      "5/5 - 0s - loss: 0.6455 - accuracy: 0.6451 - val_loss: 0.6050 - val_accuracy: 0.7696\n",
      "Epoch 2/100\n",
      "5/5 - 0s - loss: 0.5828 - accuracy: 0.8103 - val_loss: 0.5551 - val_accuracy: 0.8434\n",
      "Epoch 3/100\n",
      "5/5 - 0s - loss: 0.5328 - accuracy: 0.8549 - val_loss: 0.5132 - val_accuracy: 0.8501\n",
      "Epoch 4/100\n",
      "5/5 - 0s - loss: 0.4921 - accuracy: 0.8504 - val_loss: 0.4774 - val_accuracy: 0.8546\n",
      "Epoch 5/100\n",
      "5/5 - 0s - loss: 0.4565 - accuracy: 0.8661 - val_loss: 0.4475 - val_accuracy: 0.8546\n",
      "Epoch 6/100\n",
      "5/5 - 0s - loss: 0.4257 - accuracy: 0.8705 - val_loss: 0.4225 - val_accuracy: 0.8568\n",
      "Epoch 7/100\n",
      "5/5 - 0s - loss: 0.4014 - accuracy: 0.8728 - val_loss: 0.4010 - val_accuracy: 0.8613\n",
      "Epoch 8/100\n",
      "5/5 - 0s - loss: 0.3798 - accuracy: 0.8772 - val_loss: 0.3839 - val_accuracy: 0.8635\n",
      "Epoch 9/100\n",
      "5/5 - 0s - loss: 0.3628 - accuracy: 0.8750 - val_loss: 0.3705 - val_accuracy: 0.8658\n",
      "Epoch 10/100\n",
      "5/5 - 0s - loss: 0.3478 - accuracy: 0.8772 - val_loss: 0.3599 - val_accuracy: 0.8747\n",
      "Epoch 11/100\n",
      "5/5 - 0s - loss: 0.3362 - accuracy: 0.8795 - val_loss: 0.3515 - val_accuracy: 0.8747\n",
      "Epoch 12/100\n",
      "5/5 - 0s - loss: 0.3270 - accuracy: 0.8817 - val_loss: 0.3452 - val_accuracy: 0.8747\n",
      "Epoch 13/100\n",
      "5/5 - 0s - loss: 0.3187 - accuracy: 0.8839 - val_loss: 0.3405 - val_accuracy: 0.8747\n",
      "Epoch 14/100\n",
      "5/5 - 0s - loss: 0.3126 - accuracy: 0.8817 - val_loss: 0.3371 - val_accuracy: 0.8770\n",
      "Epoch 15/100\n",
      "5/5 - 0s - loss: 0.3067 - accuracy: 0.8817 - val_loss: 0.3334 - val_accuracy: 0.8792\n",
      "Epoch 16/100\n",
      "5/5 - 0s - loss: 0.3012 - accuracy: 0.8817 - val_loss: 0.3298 - val_accuracy: 0.8792\n",
      "Epoch 17/100\n",
      "5/5 - 0s - loss: 0.2955 - accuracy: 0.8817 - val_loss: 0.3270 - val_accuracy: 0.8837\n",
      "Epoch 18/100\n",
      "5/5 - 0s - loss: 0.2909 - accuracy: 0.8795 - val_loss: 0.3244 - val_accuracy: 0.8837\n",
      "Epoch 19/100\n",
      "5/5 - 0s - loss: 0.2868 - accuracy: 0.8795 - val_loss: 0.3221 - val_accuracy: 0.8837\n",
      "Epoch 20/100\n",
      "5/5 - 0s - loss: 0.2833 - accuracy: 0.8795 - val_loss: 0.3194 - val_accuracy: 0.8814\n",
      "Epoch 21/100\n",
      "5/5 - 0s - loss: 0.2781 - accuracy: 0.8839 - val_loss: 0.3176 - val_accuracy: 0.8837\n",
      "Epoch 22/100\n",
      "5/5 - 0s - loss: 0.2745 - accuracy: 0.8884 - val_loss: 0.3165 - val_accuracy: 0.8814\n",
      "Epoch 23/100\n",
      "5/5 - 0s - loss: 0.2711 - accuracy: 0.8884 - val_loss: 0.3153 - val_accuracy: 0.8837\n",
      "Epoch 24/100\n",
      "5/5 - 0s - loss: 0.2677 - accuracy: 0.8884 - val_loss: 0.3142 - val_accuracy: 0.8837\n",
      "Epoch 25/100\n",
      "5/5 - 0s - loss: 0.2649 - accuracy: 0.8884 - val_loss: 0.3133 - val_accuracy: 0.8837\n",
      "Epoch 26/100\n",
      "5/5 - 0s - loss: 0.2629 - accuracy: 0.8929 - val_loss: 0.3125 - val_accuracy: 0.8814\n",
      "Epoch 27/100\n",
      "5/5 - 0s - loss: 0.2619 - accuracy: 0.8906 - val_loss: 0.3108 - val_accuracy: 0.8904\n",
      "Epoch 28/100\n",
      "5/5 - 0s - loss: 0.2585 - accuracy: 0.8906 - val_loss: 0.3089 - val_accuracy: 0.8904\n",
      "Epoch 29/100\n",
      "5/5 - 0s - loss: 0.2562 - accuracy: 0.8951 - val_loss: 0.3077 - val_accuracy: 0.8904\n",
      "Epoch 30/100\n",
      "5/5 - 0s - loss: 0.2541 - accuracy: 0.8973 - val_loss: 0.3069 - val_accuracy: 0.8881\n",
      "Epoch 31/100\n",
      "5/5 - 0s - loss: 0.2518 - accuracy: 0.8996 - val_loss: 0.3061 - val_accuracy: 0.8881\n",
      "Epoch 32/100\n",
      "5/5 - 0s - loss: 0.2503 - accuracy: 0.8996 - val_loss: 0.3052 - val_accuracy: 0.8859\n",
      "Epoch 33/100\n",
      "5/5 - 0s - loss: 0.2492 - accuracy: 0.8996 - val_loss: 0.3043 - val_accuracy: 0.8881\n",
      "Epoch 34/100\n",
      "5/5 - 0s - loss: 0.2471 - accuracy: 0.9040 - val_loss: 0.3038 - val_accuracy: 0.8904\n",
      "Epoch 35/100\n",
      "5/5 - 0s - loss: 0.2459 - accuracy: 0.9040 - val_loss: 0.3037 - val_accuracy: 0.8859\n",
      "Epoch 36/100\n",
      "5/5 - 0s - loss: 0.2444 - accuracy: 0.9062 - val_loss: 0.3034 - val_accuracy: 0.8859\n",
      "Epoch 37/100\n",
      "5/5 - 0s - loss: 0.2433 - accuracy: 0.9062 - val_loss: 0.3037 - val_accuracy: 0.8837\n",
      "Epoch 38/100\n",
      "5/5 - 0s - loss: 0.2421 - accuracy: 0.9062 - val_loss: 0.3027 - val_accuracy: 0.8859\n",
      "Epoch 39/100\n",
      "5/5 - 0s - loss: 0.2408 - accuracy: 0.9062 - val_loss: 0.3017 - val_accuracy: 0.8859\n",
      "Epoch 40/100\n",
      "5/5 - 0s - loss: 0.2389 - accuracy: 0.9085 - val_loss: 0.3020 - val_accuracy: 0.8881\n",
      "Epoch 41/100\n",
      "5/5 - 0s - loss: 0.2383 - accuracy: 0.9129 - val_loss: 0.3030 - val_accuracy: 0.8881\n"
     ]
    },
    {
     "data": {
      "text/plain": [
       "<tensorflow.python.keras.callbacks.History at 0x7f2a3020d6a0>"
      ]
     },
     "execution_count": 9,
     "metadata": {},
     "output_type": "execute_result"
    }
   ],
   "source": [
    "input_size=10\n",
    "output_size=2\n",
    "WIDTH=50\n",
    "\n",
    "model=tf.keras.Sequential([\n",
    "    tf.keras.layers.Dense(units=WIDTH,activation='relu'),\n",
    "    tf.keras.layers.Dense(units=WIDTH,activation='relu'),\n",
    "    tf.keras.layers.Dense(units=output_size,activation='softmax'),\n",
    "])\n",
    "\n",
    "model.compile(optimizer='adam',loss='sparse_categorical_crossentropy',metrics=['accuracy'])\n",
    "\n",
    "batch_size=100\n",
    "max_epoch=100\n",
    "\n",
    "early_stopping=tf.keras.callbacks.EarlyStopping(patience=2)\n",
    "\n",
    "model.fit(train_inputs,\n",
    "          train_outputs,\n",
    "          batch_size=batch_size,\n",
    "          epochs=max_epoch,\n",
    "          callbacks=[early_stopping],\n",
    "          validation_data=(validation_inputs,validation_outputs),\n",
    "          verbose=2\n",
    "         )"
   ]
  },
  {
   "cell_type": "code",
   "execution_count": 11,
   "metadata": {},
   "outputs": [
    {
     "name": "stdout",
     "output_type": "stream",
     "text": [
      "14/14 [==============================] - 0s 1ms/step - loss: 0.2369 - accuracy: 0.9129\n"
     ]
    }
   ],
   "source": [
    "test_loss,test_accuracy=model.evaluate(test_inputs,test_outputs)"
   ]
  }
 ],
 "metadata": {
  "kernelspec": {
   "display_name": "Python 3",
   "language": "python",
   "name": "python3"
  },
  "language_info": {
   "codemirror_mode": {
    "name": "ipython",
    "version": 3
   },
   "file_extension": ".py",
   "mimetype": "text/x-python",
   "name": "python",
   "nbconvert_exporter": "python",
   "pygments_lexer": "ipython3",
   "version": "3.8.2"
  }
 },
 "nbformat": 4,
 "nbformat_minor": 4
}
