{
 "cells": [
  {
   "cell_type": "code",
   "execution_count": 2,
   "metadata": {},
   "outputs": [],
   "source": [
    "import numpy as np\n",
    "import matplotlib.pyplot as plt\n",
    "from mpl_toolkits.mplot3d import Axes3D"
   ]
  },
  {
   "cell_type": "code",
   "execution_count": 3,
   "metadata": {},
   "outputs": [
    {
     "name": "stdout",
     "output_type": "stream",
     "text": [
      "(10, 2)\n",
      "[[ 2.52035258]\n",
      " [ 9.36535721]\n",
      " [ 8.85986129]\n",
      " [ 7.78598252]\n",
      " [-6.35471481]\n",
      " [-5.79696805]\n",
      " [-0.6426436 ]\n",
      " [-6.83538589]\n",
      " [-5.27333463]\n",
      " [ 3.56697548]]\n"
     ]
    }
   ],
   "source": [
    "observations=10\n",
    "xs=np.random.uniform(-10,10,(observations,1))\n",
    "zs=np.random.uniform(-10,10,(observations,1))\n",
    "\n",
    "inputs=np.column_stack((xs,zs))\n",
    "\n",
    "print(inputs.shape)\n",
    "print(xs)"
   ]
  },
  {
   "cell_type": "code",
   "execution_count": 4,
   "metadata": {},
   "outputs": [
    {
     "name": "stdout",
     "output_type": "stream",
     "text": [
      "(10, 1)\n"
     ]
    }
   ],
   "source": [
    "noise=np.random.uniform(-10,10,(observations,1))\n",
    "target=xs*2+zs*3+5+noise\n",
    "\n",
    "print(target.shape)"
   ]
  },
  {
   "cell_type": "code",
   "execution_count": null,
   "metadata": {},
   "outputs": [],
   "source": []
  },
  {
   "cell_type": "code",
   "execution_count": 6,
   "metadata": {},
   "outputs": [
    {
     "name": "stdout",
     "output_type": "stream",
     "text": [
      "[[-0.03696491]\n",
      " [-0.02925053]]\n",
      "[[0.01276977]]\n"
     ]
    }
   ],
   "source": [
    "init_range=0.1\n",
    "\n",
    "weight=np.random.uniform(-init_range,init_range,(2,1))\n",
    "bias=np.random.uniform(-init_range,init_range,(1,1))\n",
    "\n",
    "print(weight)\n",
    "print(bias)"
   ]
  },
  {
   "cell_type": "code",
   "execution_count": 7,
   "metadata": {},
   "outputs": [],
   "source": [
    "learning_rate=0.02"
   ]
  },
  {
   "cell_type": "code",
   "execution_count": null,
   "metadata": {},
   "outputs": [],
   "source": []
  }
 ],
 "metadata": {
  "kernelspec": {
   "display_name": "Python 3",
   "language": "python",
   "name": "python3"
  },
  "language_info": {
   "codemirror_mode": {
    "name": "ipython",
    "version": 3
   },
   "file_extension": ".py",
   "mimetype": "text/x-python",
   "name": "python",
   "nbconvert_exporter": "python",
   "pygments_lexer": "ipython3",
   "version": "3.7.7"
  }
 },
 "nbformat": 4,
 "nbformat_minor": 4
}
